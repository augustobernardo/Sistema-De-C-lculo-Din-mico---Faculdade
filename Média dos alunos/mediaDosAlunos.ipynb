{
  "nbformat": 4,
  "nbformat_minor": 0,
  "metadata": {
    "colab": {
      "name": "mediaDosAlunos.ipynb",
      "provenance": []
    },
    "kernelspec": {
      "name": "python3",
      "display_name": "Python 3"
    },
    "language_info": {
      "name": "python"
    }
  },
  "cells": [
    {
      "cell_type": "code",
      "execution_count": 6,
      "metadata": {
        "colab": {
          "base_uri": "https://localhost:8080/"
        },
        "id": "pB8to7yAPL-8",
        "outputId": "3ab4449d-8ec3-4430-f167-8f00a41a38c4"
      },
      "outputs": [
        {
          "output_type": "stream",
          "name": "stdout",
          "text": [
            "\n",
            "Digite o nome do aluno: augusto\n",
            "\n",
            "Quantas notas serão inseridas?\n",
            ">> 2\n",
            "\n",
            "Digite a nota do aluno(a) augusto: 9.9\n",
            "\n",
            "Digite a nota do aluno(a) augusto: 8.8\n",
            "--------------------\n",
            "\n",
            "A média do aluno(a) augusto foi de 9.4\n",
            "\n",
            "augusto está \u001b[4;32maprovado(a)!!\u001b[m\n"
          ]
        }
      ],
      "source": [
        "linhas = \"-\" * 20\n",
        "nome__aluno = str(input(\"\\nDigite o nome do aluno: \"))\n",
        "num__notas = int(input(f\"\\nQuantas notas serão inseridas?\\n>> \"))\n",
        "nota__modificada = 0\n",
        "\n",
        "for i in range(num__notas):\n",
        "    nota__aluno = float(input(f\"\\nDigite a nota do aluno(a) {nome__aluno}: \"))\n",
        "    nota__modificada += nota__aluno\n",
        "\n",
        "media__aluno = nota__modificada / num__notas\n",
        "\n",
        "if media__aluno >= 0 and media__aluno < 5:\n",
        "    print(linhas + \"\\n\")\n",
        "    print(f'A média do aluno(a) {nome__aluno} foi de {media__aluno:.1f}\\n\\n{nome__aluno} está \\033[4;31mreprovado(a)!!\\033[m')\n",
        "\n",
        "elif media__aluno >= 5 and media__aluno < 7:\n",
        "    print(linhas + \"\\n\")\n",
        "    print(f'A média do aluno(a) {nome__aluno} foi de {media__aluno:.1f}\\n\\n{nome__aluno} terá que fazer a \\033[4;33mprova especial (recuperação)!!\\033[m')\n",
        "\n",
        "elif media__aluno >= 7:\n",
        "    print(linhas + \"\\n\")\n",
        "    print(f'A média do aluno(a) {nome__aluno} foi de {media__aluno:.1f}\\n\\n{nome__aluno} está \\033[4;32maprovado(a)!!\\033[m')\n"
      ]
    }
  ]
}