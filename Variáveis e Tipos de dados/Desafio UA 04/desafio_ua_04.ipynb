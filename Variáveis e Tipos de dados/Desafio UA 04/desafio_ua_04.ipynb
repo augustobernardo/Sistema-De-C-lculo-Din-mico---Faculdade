{
  "nbformat": 4,
  "nbformat_minor": 0,
  "metadata": {
    "colab": {
      "name": "desafio_ua_04.ipynb",
      "provenance": []
    },
    "kernelspec": {
      "name": "python3",
      "display_name": "Python 3"
    },
    "language_info": {
      "name": "python"
    }
  },
  "cells": [
    {
      "cell_type": "code",
      "execution_count": 1,
      "metadata": {
        "colab": {
          "base_uri": "https://localhost:8080/"
        },
        "id": "DpjK4QUjcLfZ",
        "outputId": "2bf6b897-9bfc-4f98-ce2c-8aa2b4e46ba8"
      },
      "outputs": [
        {
          "output_type": "stream",
          "name": "stdout",
          "text": [
            "Digite o primeiro número: 1.2\n",
            "Digite o segundo número: 2.2\n",
            "Digite o terceiro número: 4.5\n",
            "Os números lidos foram: 1.2, 2.2 e 4.5\n",
            "A soma é: 7.9\n",
            "A média é: 2.63\n"
          ]
        }
      ],
      "source": [
        "n1 = float(0)\n",
        "n2 = float(0)\n",
        "n3 = float(0)\n",
        "\n",
        "\n",
        "def ler_numeros():\n",
        "    n1 = float(input('Digite o primeiro número: '))\n",
        "    n2 = float(input('Digite o segundo número: '))\n",
        "    n3 = float(input('Digite o terceiro número: '))\n",
        "    print(f'Os números lidos foram: {n1}, {n2} e {n3}')\n",
        "\n",
        "    calcular_soma(n1, n2, n3)\n",
        "\n",
        "def calcular_soma(a, b, c):\n",
        "    soma = float(a + b + c)\n",
        "    print(f'A soma é: {soma}')\n",
        "\n",
        "    calcular_media(a, b, c)\n",
        "\n",
        "def calcular_media(a, b, c):\n",
        "    media = (a + b + c) / 3\n",
        "    print(f'A média é: {media:.2f}')\n",
        "\n",
        "\n",
        "if __name__ == '__main__':\n",
        "    ler_numeros()"
      ]
    }
  ]
}