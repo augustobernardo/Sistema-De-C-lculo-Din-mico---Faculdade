{
  "nbformat": 4,
  "nbformat_minor": 0,
  "metadata": {
    "colab": {
      "name": "exercicio_vetores_matrizes.ipynb",
      "provenance": []
    },
    "kernelspec": {
      "name": "python3",
      "display_name": "Python 3"
    },
    "language_info": {
      "name": "python"
    }
  },
  "cells": [
    {
      "cell_type": "code",
      "execution_count": null,
      "metadata": {
        "id": "aOysesrV4Do_"
      },
      "outputs": [],
      "source": [
        "pergunta = int(input(\"Digite quantas notas serão inseridas\\n>> \"))\n",
        "soma = 0\n",
        "vetor = []\n",
        "\n",
        "for i in range(pergunta):\n",
        "  nota = float(input('Digite a nota do aluno: '))\n",
        "  vetor.append(nota)\n",
        "  soma = soma + vetor[i]\n",
        "\n",
        "media = soma / pergunta\n",
        "print(f'A média das notas desse alunos foi de {media:.2f}')\n"
      ]
    }
  ]
}