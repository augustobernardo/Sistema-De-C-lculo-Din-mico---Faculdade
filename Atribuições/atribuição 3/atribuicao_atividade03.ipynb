{
  "nbformat": 4,
  "nbformat_minor": 0,
  "metadata": {
    "colab": {
      "name": "atribuicao_atividade03.ipynb",
      "provenance": []
    },
    "kernelspec": {
      "name": "python3",
      "display_name": "Python 3"
    },
    "language_info": {
      "name": "python"
    }
  },
  "cells": [
    {
      "cell_type": "code",
      "execution_count": null,
      "metadata": {
        "id": "Pi7hpPo3Fl3J"
      },
      "outputs": [],
      "source": [
        "linhas = \"-\" * 20\n",
        "\n",
        "# função para iniciar o programa e para auxiliar na \"limpeza\" dos dados anteriores\n",
        "def inicio():\n",
        "    nome__aluno = str(input(\"\\nDigite o nome do aluno: \")).title()\n",
        "    num__notas = int(input(f\"\\nQuantas notas serão inseridas?\\n>> \"))\n",
        "    nota__modificada = 0\n",
        "\n",
        "    # chamando a função para calcular e receber as notas\n",
        "    notas(num__notas, nota__modificada, nome__aluno)\n",
        "\n",
        "# função para calcular as notas\n",
        "def notas(num__notas, nota__modificada, nome__aluno):\n",
        "    pergunta = str('N')\n",
        "    while pergunta == 'N':\n",
        "        for i in range(num__notas):\n",
        "            # Pergunta a nota do aluno\n",
        "            nota__aluno = float(input(f\"\\nDigite a nota do aluno(a) {nome__aluno}: \"))\n",
        "            # Cada vez que se repetir irá somar: nota__modificada = nota__modificada(anterior) + nota__aluno\n",
        "            nota__modificada += nota__aluno\n",
        "        # calculando a média\n",
        "        media__aluno = nota__modificada / num__notas\n",
        "\n",
        "        # Condicionais: Se a media for maior ou igual a 0 e a media menor do que 5 faça\n",
        "        if media__aluno >= 0 and media__aluno < 5:\n",
        "            print(linhas + \"\\n\")\n",
        "            print(f'A média do aluno(a) {nome__aluno} foi de {media__aluno:.1f}\\n\\n{nome__aluno} está reprovado(a)!!')\n",
        "\n",
        "        # Condicionais: Se a media for maior ou igual a 5 e a media menor do que 7 faça\n",
        "        elif media__aluno >= 5 and media__aluno < 7:\n",
        "            print(linhas + \"\\n\")\n",
        "            print(f'A média do aluno(a) {nome__aluno} foi de {media__aluno:.1f}\\n\\n{nome__aluno} terá que fazer a prova especial (recuperação)!!')\n",
        "\n",
        "        # Condicionais: Se a media for maior ou igual a 7 faça\n",
        "        elif media__aluno >= 7:\n",
        "            print(linhas + \"\\n\")\n",
        "            print(f'A média do aluno(a) {nome__aluno} foi de {media__aluno:.1f}\\n\\n{nome__aluno} está aprovado(a)!!')\n",
        "\n",
        "        print(linhas)\n",
        "        # Perguntando se a pessoa deseja inserir novas informações\n",
        "        pergunta = str(input(f'Deseja inserir novas informações?\\n[S]Sim\\n[N]Não\\n>> ')).upper()\n",
        "        # se a resposta for não, então irá acabar o programa\n",
        "        if pergunta == 'N':\n",
        "            break\n",
        "    else:\n",
        "        # se a resposta da pergunta for sim, então irá chamar a função inicio, limpando todas as informações anteriores\n",
        "        inicio()\n",
        "\n",
        "if __name__ == '__main__':\n",
        "    # quando o programa iniciar irá chamar a função\n",
        "    inicio()"
      ]
    }
  ]
}