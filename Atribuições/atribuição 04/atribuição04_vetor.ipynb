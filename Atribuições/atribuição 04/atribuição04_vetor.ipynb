{
  "nbformat": 4,
  "nbformat_minor": 0,
  "metadata": {
    "colab": {
      "name": "atribuição04_vetor.ipynb",
      "provenance": [],
      "collapsed_sections": []
    },
    "kernelspec": {
      "name": "python3",
      "display_name": "Python 3"
    },
    "language_info": {
      "name": "python"
    }
  },
  "cells": [
    {
      "cell_type": "code",
      "execution_count": null,
      "metadata": {
        "id": "ExZ4jxKb5jxf"
      },
      "outputs": [],
      "source": [
        "# objetivo 1: adicionar os itens dinamicamente -> exemplo de output: v = [1, -5, 0, 3, 9, -1, 7]\n",
        "# objetivo 2: calcular a soma dos valores do vetor\n",
        "# objetivo 3: somar os valores de v[0], v[3] e v[6] e imprimir o resultado\n",
        "# objetivo 4: somar os índices pares e índices ímpares do vetor\n",
        "\n",
        "v = []\n",
        "soma = 0\n",
        "soma_indices = 0\n",
        "soma_par = 0\n",
        "soma_impar = 0\n",
        "somaTotal = 0\n",
        "\n",
        "for i in range(7):\n",
        "    pergunta = int(input(f'Digite o número da posição {i}\\n>> '))\n",
        "    # adicionando os valores digitados pelo usuário\n",
        "    v.append(pergunta)\n",
        "\n",
        "    # calculando a soma\n",
        "    soma = soma + v[i]\n",
        "    # segunda forma de calcular a soma dos valores do vetor\n",
        "    # soma = soma + pergunta\n",
        "\n",
        "    # calculando a soma dos índices pares com os índices ímpares\n",
        "    soma_indices += i\n",
        "\n",
        "    # calculando a soma dos valores pares e ímpares do vetor\n",
        "    if (v[i] % 2) == 0:\n",
        "        soma_par += v[i]\n",
        "\n",
        "    elif (v[i] % 2) == 1:\n",
        "        soma_impar += v[i]\n",
        "print('-' * 35)\n",
        "\n",
        "# calculando a soma dos valores dos índices 0, 3 e 6\n",
        "soma_objetiva = v[0] + v[3] + v[6]\n",
        "\n",
        "# calculando a soma total dos pares com os ímpres\n",
        "somaTotal = soma_par + soma_impar\n",
        "\n",
        "# imprimindo o vetor\n",
        "print(f'O vetor ficou da seguinte forma: {v}\\n')\n",
        "# imprimindo a soma dos valores digitados\n",
        "print(f'A soma dos valores digitados é de: {soma}\\n')\n",
        "# imprimindo a soma dos valores específicos\n",
        "print(f'A soma dos valores\\nV[0] = {v[0]}\\nV[3] = {v[3]}\\nV[6] = {v[6]}\\né igual a: {soma_objetiva}\\n')\n",
        "# imprimindo a soma dos índices pares com os índices ímpares do vetor\n",
        "print(f'A soma dos índices pares com os índices ímpares é de: {soma_indices}\\n')\n",
        "# imprimindo a soma dos valores pares com os valores ímpares do vetor\n",
        "print(f'A soma dos valores pares com os valores ímpares do vetor\\nSoma pares: {soma_par}\\nSoma ímpares: {soma_impar}\\né igual a: {somaTotal}\\n')\n"
      ]
    }
  ]
}